{
 "cells": [
  {
   "cell_type": "code",
   "execution_count": 1,
   "metadata": {},
   "outputs": [],
   "source": [
    "import torch\n",
    "import torch.nn as nn\n",
    "\n",
    "class TokenEmbedding(nn.Module):\n",
    "    def __init__(self, c_in, d_model):\n",
    "        super(TokenEmbedding, self).__init__()\n",
    "        padding = 1\n",
    "        self.tokenConv = nn.Conv1d(in_channels=c_in, out_channels=d_model,\n",
    "                                   kernel_size=3, padding=padding, padding_mode='circular', bias=False)\n",
    "        for m in self.modules():\n",
    "            if isinstance(m, nn.Conv1d):\n",
    "                nn.init.kaiming_normal_(m.weight, mode='fan_in', nonlinearity='leaky_relu')\n",
    "\n",
    "    def forward(self, x):\n",
    "        x = self.tokenConv(x.permute(0, 2, 1)).transpose(1, 2)\n",
    "        return x"
   ]
  },
  {
   "cell_type": "code",
   "execution_count": 19,
   "metadata": {},
   "outputs": [],
   "source": [
    "batch_size = 32\n",
    "seq_len = 8\n",
    "c_in = 10\n",
    "d_model = 128\n",
    "kernel_size = 3\n",
    "padding = 1\n",
    "\n",
    "tokenConv = nn.Conv1d(\n",
    "    in_channels=c_in,\n",
    "    out_channels=d_model,\n",
    "    kernel_size=kernel_size,\n",
    "    padding=padding,\n",
    "    padding_mode='circular',\n",
    "    bias=False\n",
    ")"
   ]
  },
  {
   "cell_type": "markdown",
   "metadata": {},
   "source": [
    "- In the traditonal transformer, from an integer token to d_model embedding\n",
    "\n",
    "- TokenConvolution\n",
    "    Instead of token, we have float channels (features)\n",
    "    Using #(c_in * d_model) kernels, we extend the dimension of features\n",
    "    Using the convolutional layer, locally adjascent tokens generate embeddings togeter"
   ]
  },
  {
   "cell_type": "code",
   "execution_count": 21,
   "metadata": {},
   "outputs": [
    {
     "name": "stdout",
     "output_type": "stream",
     "text": [
      "x shape: torch.Size([32, 8, 10])\n",
      "x_permuted shape: torch.Size([32, 10, 8])\n",
      "x_conved shape: torch.Size([32, 128, 8])\n",
      "x_out shape: torch.Size([32, 8, 128])\n"
     ]
    }
   ],
   "source": [
    "x = torch.rand(batch_size, seq_len, c_in)\n",
    "x_permuted = x.permute(0, 2, 1)\n",
    "x_conved = tokenConv(x_permuted)\n",
    "x_out = x_conved.transpose(1,2)\n",
    "\n",
    "print(f\"x shape: {x.shape}\")\n",
    "print(f\"x_permuted shape: {x_permuted.shape}\")\n",
    "print(f\"x_conved shape: {x_conved.shape}\")\n",
    "print(f\"x_out shape: {x_out.shape}\")"
   ]
  }
 ],
 "metadata": {
  "kernelspec": {
   "display_name": "base",
   "language": "python",
   "name": "python3"
  },
  "language_info": {
   "codemirror_mode": {
    "name": "ipython",
    "version": 3
   },
   "file_extension": ".py",
   "mimetype": "text/x-python",
   "name": "python",
   "nbconvert_exporter": "python",
   "pygments_lexer": "ipython3",
   "version": "3.10.9"
  },
  "orig_nbformat": 4
 },
 "nbformat": 4,
 "nbformat_minor": 2
}
