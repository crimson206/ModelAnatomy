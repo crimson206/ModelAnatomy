{
 "cells": [
  {
   "cell_type": "code",
   "execution_count": 1,
   "metadata": {},
   "outputs": [],
   "source": [
    "import torch.nn as nn\n",
    "from embed import TokenEmbedding, PositionalEmbedding, TemporalEmbedding, TimeFeatureEmbedding\n",
    "\n",
    "class DataEmbedding_wo_pos(nn.Module):\n",
    "    def __init__(self, c_in, d_model, embed_type='fixed', freq='h', dropout=0.1):\n",
    "        super(DataEmbedding_wo_pos, self).__init__()\n",
    "\n",
    "        self.value_embedding = TokenEmbedding(c_in=c_in, d_model=d_model)\n",
    "        #self.position_embedding = PositionalEmbedding(d_model=d_model)\n",
    "        self.temporal_embedding = TemporalEmbedding(d_model=d_model, embed_type=embed_type,\n",
    "                                                    freq=freq) if embed_type != 'timeF' else TimeFeatureEmbedding(\n",
    "            d_model=d_model, embed_type=embed_type, freq=freq)\n",
    "        self.dropout = nn.Dropout(p=dropout)\n",
    "\n",
    "    def forward(self, x, x_mark):\n",
    "        x = self.value_embedding(x) + self.temporal_embedding(x_mark)\n",
    "        return self.dropout(x)"
   ]
  },
  {
   "cell_type": "markdown",
   "metadata": {},
   "source": [
    "TokenEmbedding\n",
    "from (n_batch, n_seq, c_in) to (n_batch, n_seq, d_model)\n",
    "\n",
    "TemporalEmbedding\n",
    "from (n_batch, n_seq, n_time_scale) to (n_batch, n_seq, d_model)\n",
    "\n",
    "TimeFeatureEmbedding\n",
    "During initiation\n",
    "(n_batch, n_seq, freq_map) do mapping\n",
    "(n_batch, n_seq, n_feature)\n",
    "(n_batch, n_seq, d_model)\n",
    "\n",
    "from (n_batch, n_seq, n_feature) to (n_batch, n_seq, d_model)"
   ]
  },
  {
   "cell_type": "markdown",
   "metadata": {},
   "source": [
    "One batch is for example,\n",
    "\n",
    "Time point1 : #(c_in) of features\n",
    "Time point2 : #(c_in) of features\n",
    "...\n",
    "\n",
    "+ time embedding.\n",
    "\n",
    "For example, \n",
    "Time point1 is 7:59,\n",
    "Time point2 is 8:00,\n",
    "therefore, the model notices the changes of hour and minute respectively."
   ]
  }
 ],
 "metadata": {
  "kernelspec": {
   "display_name": "Python 3",
   "language": "python",
   "name": "python3"
  },
  "language_info": {
   "codemirror_mode": {
    "name": "ipython",
    "version": 3
   },
   "file_extension": ".py",
   "mimetype": "text/x-python",
   "name": "python",
   "nbconvert_exporter": "python",
   "pygments_lexer": "ipython3",
   "version": "3.9.13"
  }
 },
 "nbformat": 4,
 "nbformat_minor": 2
}
