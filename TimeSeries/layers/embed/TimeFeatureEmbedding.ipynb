{
 "cells": [
  {
   "cell_type": "code",
   "execution_count": 3,
   "metadata": {},
   "outputs": [],
   "source": [
    "import torch\n",
    "import torch.nn as nn\n",
    "\n",
    "class TimeFeatureEmbedding(nn.Module):\n",
    "    def __init__(self, d_model, embed_type='timeF', freq='h'):\n",
    "        super(TimeFeatureEmbedding, self).__init__()\n",
    "\n",
    "        freq_map = {'h': 4, 't': 5, 's': 6, 'm': 1, 'a': 1, 'w': 2, 'd': 3, 'b': 3}\n",
    "        d_inp = freq_map[freq]\n",
    "        self.embed = nn.Linear(d_inp, d_model, bias=False)\n",
    "\n",
    "    def forward(self, x):\n",
    "        return self.embed(x)"
   ]
  },
  {
   "cell_type": "code",
   "execution_count": 4,
   "metadata": {},
   "outputs": [
    {
     "name": "stdout",
     "output_type": "stream",
     "text": [
      "Input shape: torch.Size([2, 10, 4])\n",
      "Embedded output shape: torch.Size([2, 10, 64])\n"
     ]
    }
   ],
   "source": [
    "\n",
    "\n",
    "# Define the embedding size you want to use\n",
    "d_model = 64  # Size of the embedding vector\n",
    "\n",
    "# Example frequencies and their respective feature sizes\n",
    "# 'h' for hourly, 't' for minutely, etc.\n",
    "freq_map = {\n",
    "    'h': 4,  # Let's assume 4 features for hourly data\n",
    "    't': 5,  # 5 features for minutely data\n",
    "}\n",
    "\n",
    "# Choose the frequency for the embedding\n",
    "freq = 'h'  # Let's say we are working with hourly data\n",
    "\n",
    "# Create the embedding module\n",
    "time_feature_embedding = TimeFeatureEmbedding(d_model, embed_type='timeF', freq=freq)\n",
    "\n",
    "# Example input tensor, shape: (batch_size, sequence_length, number_of_time_features)\n",
    "# batch_size = 2, sequence_length = 10, number_of_time_features = freq_map[freq]\n",
    "example_input = torch.randn(2, 10, freq_map[freq])\n",
    "\n",
    "# Forward pass through the embedding module\n",
    "embedded_output = time_feature_embedding(example_input)\n",
    "\n",
    "# Output the shapes to understand what transformation occurred\n",
    "print(f\"Input shape: {example_input.shape}\")\n",
    "print(f\"Embedded output shape: {embedded_output.shape}\")\n"
   ]
  }
 ],
 "metadata": {
  "kernelspec": {
   "display_name": "Python 3",
   "language": "python",
   "name": "python3"
  },
  "language_info": {
   "codemirror_mode": {
    "name": "ipython",
    "version": 3
   },
   "file_extension": ".py",
   "mimetype": "text/x-python",
   "name": "python",
   "nbconvert_exporter": "python",
   "pygments_lexer": "ipython3",
   "version": "3.9.13"
  }
 },
 "nbformat": 4,
 "nbformat_minor": 2
}
