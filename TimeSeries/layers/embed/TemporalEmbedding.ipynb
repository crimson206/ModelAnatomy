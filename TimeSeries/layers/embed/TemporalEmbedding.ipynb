{
 "cells": [
  {
   "cell_type": "code",
   "execution_count": 1,
   "metadata": {},
   "outputs": [],
   "source": [
    "import math\n",
    "import torch\n",
    "import torch.nn as nn"
   ]
  },
  {
   "cell_type": "code",
   "execution_count": 2,
   "metadata": {},
   "outputs": [],
   "source": [
    "from embed import FixedEmbedding"
   ]
  },
  {
   "cell_type": "code",
   "execution_count": 3,
   "metadata": {},
   "outputs": [],
   "source": [
    "class TemporalEmbedding(nn.Module):\n",
    "    def __init__(self, d_model, embed_type='fixed', freq='h'):\n",
    "        super(TemporalEmbedding, self).__init__()\n",
    "\n",
    "        minute_size = 4\n",
    "        hour_size = 24\n",
    "        weekday_size = 7\n",
    "        day_size = 32\n",
    "        month_size = 13\n",
    "\n",
    "        Embed = FixedEmbedding if embed_type == 'fixed' else nn.Embedding\n",
    "        if freq == 't':\n",
    "            self.minute_embed = Embed(minute_size, d_model)\n",
    "        self.hour_embed = Embed(hour_size, d_model)\n",
    "        self.weekday_embed = Embed(weekday_size, d_model)\n",
    "        self.day_embed = Embed(day_size, d_model)\n",
    "        self.month_embed = Embed(month_size, d_model)\n",
    "\n",
    "    def forward(self, x):\n",
    "        x = x.long()\n",
    "\n",
    "        minute_x = self.minute_embed(x[:, :, 4]) if hasattr(self, 'minute_embed') else 0.\n",
    "        hour_x = self.hour_embed(x[:, :, 3])\n",
    "        weekday_x = self.weekday_embed(x[:, :, 2])\n",
    "        day_x = self.day_embed(x[:, :, 1])\n",
    "        month_x = self.month_embed(x[:, :, 0])\n",
    "\n",
    "        return hour_x + weekday_x + day_x + month_x + minute_x"
   ]
  },
  {
   "cell_type": "code",
   "execution_count": 4,
   "metadata": {},
   "outputs": [
    {
     "name": "stdout",
     "output_type": "stream",
     "text": [
      "Input size: torch.Size([2, 10, 5])\n",
      "Output size: torch.Size([2, 10, 64])\n"
     ]
    }
   ],
   "source": [
    "# Define the model dimension and the batch size and sequence length for the example\n",
    "d_model = 64  # Example: embedding size of 64\n",
    "batch_size = 2\n",
    "seq_length = 10\n",
    "\n",
    "# Instantiate the TemporalEmbedding class with 'fixed' embedding type for the example\n",
    "temporal_embedding = TemporalEmbedding(d_model=d_model, embed_type='fixed', freq='h')\n",
    "\n",
    "# Example input tensor representing [batch_size, sequence_length, time_features]\n",
    "# The values should be in the appropriate range for each time feature\n",
    "minute_range = (0, 4) if hasattr(temporal_embedding, 'minute_embed') else (0, 1)\n",
    "hour_range = (0, 24)\n",
    "weekday_range = (0, 7)\n",
    "day_range = (0, 32)\n",
    "month_range = (0, 13)\n",
    "\n",
    "# Adjusted random input considering the valid range for each embedding layer\n",
    "example_input = torch.stack([\n",
    "    torch.randint(*month_range, size=(batch_size, seq_length)),\n",
    "    torch.randint(*day_range, size=(batch_size, seq_length)),\n",
    "    torch.randint(*weekday_range, size=(batch_size, seq_length)),\n",
    "    torch.randint(*hour_range, size=(batch_size, seq_length)),\n",
    "    torch.randint(*minute_range, size=(batch_size, seq_length)) if hasattr(temporal_embedding, 'minute_embed') else torch.zeros(batch_size, seq_length, dtype=torch.int64)\n",
    "], dim=-1)\n",
    "\n",
    "# Pass the input through the embedding layer\n",
    "output = temporal_embedding(example_input)\n",
    "\n",
    "print(f\"Input size: {example_input.size()}\")\n",
    "print(f\"Output size: {output.size()}\")\n"
   ]
  },
  {
   "cell_type": "markdown",
   "metadata": {},
   "source": [
    "5 (n_batch, n_seq) tensors are respectively converted to (n_batch, n_seq, d_model).\n",
    "They are added."
   ]
  },
  {
   "cell_type": "markdown",
   "metadata": {},
   "source": [
    "example_input tensor structure:\n",
    "\n",
    "Batch 1:\n",
    "    Time Point 1: [Month, Day, Weekday, Hour, (Minute placeholder)]\n",
    "    Time Point 2: [Month, Day, Weekday, Hour, (Minute placeholder)]\n",
    "    ...\n",
    "    Time Point 10: [Month, Day, Weekday, Hour, (Minute placeholder)]\n",
    "\n",
    "Batch 2:\n",
    "    Time Point 1: [Month, Day, Weekday, Hour, (Minute placeholder)]\n",
    "    Time Point 2: [Month, Day, Weekday, Hour, (Minute placeholder)]\n",
    "    ...\n",
    "    Time Point 10: [Month, Day, Weekday, Hour, (Minute placeholder)]\n"
   ]
  },
  {
   "cell_type": "code",
   "execution_count": 13,
   "metadata": {},
   "outputs": [
    {
     "name": "stdout",
     "output_type": "stream",
     "text": [
      "tensor([[[ 0, 18,  2, 16,  0],\n",
      "         [ 5, 21,  5,  2,  0],\n",
      "         [ 4, 26,  2, 12,  0],\n",
      "         [ 0, 14,  1,  2,  0],\n",
      "         [12, 22,  4, 12,  0],\n",
      "         [ 4,  6,  3, 19,  0],\n",
      "         [ 0, 14,  3, 21,  0],\n",
      "         [ 6, 28,  4,  6,  0],\n",
      "         [ 1, 24,  4,  8,  0],\n",
      "         [ 2,  3,  1, 16,  0]],\n",
      "\n",
      "        [[ 5, 29,  0, 18,  0],\n",
      "         [ 4, 14,  5, 20,  0],\n",
      "         [ 4, 22,  1, 12,  0],\n",
      "         [ 3,  6,  2, 17,  0],\n",
      "         [ 7, 14,  4,  0,  0],\n",
      "         [ 7,  6,  5, 12,  0],\n",
      "         [ 8, 22,  0, 16,  0],\n",
      "         [ 1, 12,  0,  7,  0],\n",
      "         [10,  5,  1,  2,  0],\n",
      "         [ 0, 26,  2, 18,  0]]])\n"
     ]
    }
   ],
   "source": [
    "print(example_input)"
   ]
  }
 ],
 "metadata": {
  "kernelspec": {
   "display_name": "Python 3",
   "language": "python",
   "name": "python3"
  },
  "language_info": {
   "codemirror_mode": {
    "name": "ipython",
    "version": 3
   },
   "file_extension": ".py",
   "mimetype": "text/x-python",
   "name": "python",
   "nbconvert_exporter": "python",
   "pygments_lexer": "ipython3",
   "version": "3.9.13"
  }
 },
 "nbformat": 4,
 "nbformat_minor": 2
}
